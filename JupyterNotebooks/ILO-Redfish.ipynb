{
 "cells": [
  {
   "cell_type": "markdown",
   "metadata": {},
   "source": [
    "# HPE ILO Redfish - Prometheus - Grafana Monitoring"
   ]
  },
  {
   "cell_type": "raw",
   "metadata": {},
   "source": [
    "This Jupyter notebook describes the deployment of the monitoring of aHPE Server, using the ILO Redfish connector for Prometheus and the Grafana visualization tool \n",
    "\n",
    "The solution described is is deployed on a Kubernetes 1.20.10 cluster deployed in the Customer Technology Center Boeblingen, i.e. all parts of the monitoring stack are deployed as container."
   ]
  },
  {
   "cell_type": "markdown",
   "metadata": {},
   "source": [
    "## Connect to the Kubernetes environment"
   ]
  },
  {
   "cell_type": "raw",
   "metadata": {},
   "source": [
    "Check that you are connected to the correct Kubernetes cluster. If not use the ClusterConnection Notebook in the Toolkit to get connected to the correct Kubernetes cluster: suo04k8s. All Grafana Monitoring is located in the svtprometheus namespace. "
   ]
  },
  {
   "cell_type": "code",
   "execution_count": null,
   "metadata": {},
   "outputs": [],
   "source": [
    "kubectl get nodes\n",
    "kubectl -n svtprometheus get pods,svc"
   ]
  },
  {
   "cell_type": "markdown",
   "metadata": {},
   "source": [
    "## 1. Create the namespace\n",
    "\n",
    "Create a namespace for your deployment. The example below creates the namespace svtprometheus. "
   ]
  },
  {
   "cell_type": "code",
   "execution_count": null,
   "metadata": {},
   "outputs": [],
   "source": [
    "# Example content of the namespace.yml file - either run the command above or this one to create the namespace\n",
    "cat << 'EOF' | kubectl apply -f -\n",
    "apiVersion: v1\n",
    "kind: Namespace\n",
    "metadata:\n",
    "  name: svtprometheus\n",
    "EOF"
   ]
  },
  {
   "cell_type": "markdown",
   "metadata": {},
   "source": [
    "## 2. Create the ConfigMap\n",
    "\n",
    "The connection and monitoring parameters are transferred to the HPE ILO Redfish Prometheus connector as a Kubernetes ConfigMap. \n",
    "\n",
    "The ConfigMap can be created using th Python script: createILOcredentials.v1.0.py. \n",
    "\n",
    "Requirements:\n",
    "    - System with Python 3 and the following Python packages installed: \n",
    "      - Fernet\n",
    "      - getpass\n",
    "      - etree\n",
    "\n",
    "Run the script with the following command: python3 createILOcredentials.v1.0.py\n",
    "The script will ask for the following information:\n",
    "    - username               ILO username (requires read only access) \n",
    "    - password               ILO password\n",
    "    - Logfile                Logfile name\n",
    "    - Connector Port         TCP Port that the connector uses to publish the counters.\n",
    "    - Filename               name of the yml-file (<name>.yml) and the configmap: <name>-xml\n",
    "    - Monitoringintervall    Monitorintervall in seconds\n",
    "    - ILO IP Address         ILO IP address (asks for it until you enter: 0)\n",
    "    \n",
    "\n",
    "It will create the Kubernetes yml-file (<name>.yml) that can be used to  create the Configmap <name>-xml \n",
    "    "
   ]
  },
  {
   "cell_type": "code",
   "execution_count": null,
   "metadata": {},
   "outputs": [],
   "source": [
    "pwd\n",
    "ls -l"
   ]
  },
  {
   "cell_type": "code",
   "execution_count": null,
   "metadata": {},
   "outputs": [],
   "source": [
    "# apply the configmaps \n",
    "kubectl apply -f iloprom1.yml\n",
    "kubectl apply -f iloprom2.yml\n",
    "kubectl apply -f iloprom3.yml\n",
    "#kubectl apply -f iloprom4.yml"
   ]
  },
  {
   "cell_type": "markdown",
   "metadata": {},
   "source": [
    "Check that the configmap is created properly"
   ]
  },
  {
   "cell_type": "code",
   "execution_count": null,
   "metadata": {},
   "outputs": [],
   "source": [
    "kubectl -n svtprometheus get configmap"
   ]
  },
  {
   "cell_type": "code",
   "execution_count": null,
   "metadata": {},
   "outputs": [],
   "source": [
    "kubectl -n svtprometheus delete configmap/ilo-synergy-xml"
   ]
  },
  {
   "cell_type": "code",
   "execution_count": null,
   "metadata": {},
   "outputs": [],
   "source": [
    "kubectl -n svtprometheus describe configmap/iloprom2-xml"
   ]
  },
  {
   "cell_type": "markdown",
   "metadata": {},
   "source": [
    "## 3. Create the ILO Redfish Connector POD and Service with the Config Maps"
   ]
  },
  {
   "cell_type": "markdown",
   "metadata": {},
   "source": [
    "### 3.1 Infrastructure & SimpliVity Demo"
   ]
  },
  {
   "cell_type": "code",
   "execution_count": null,
   "metadata": {},
   "outputs": [],
   "source": [
    "# apply the configmaps \n",
    "kubectl apply -f iloprom1.yml\n",
    "kubectl -n svtprometheus describe configmap/iloprom1-xml"
   ]
  },
  {
   "cell_type": "code",
   "execution_count": 6,
   "metadata": {},
   "outputs": [
    {
     "name": "stdout",
     "output_type": "stream",
     "text": [
      "deployment.apps/ilo1 created\n"
     ]
    }
   ],
   "source": [
    "cat << 'EOF' | kubectl apply -f -\n",
    "apiVersion: apps/v1\n",
    "kind: Deployment\n",
    "metadata:\n",
    "  name: ilo1\n",
    "  namespace: svtprometheus\n",
    "  labels:\n",
    "    app: ilo-infra\n",
    "spec:\n",
    "  selector:\n",
    "    matchLabels:\n",
    "      app: ilo-infra\n",
    "  template:\n",
    "    metadata:\n",
    "      labels:\n",
    "        app: ilo-infra\n",
    "    spec:\n",
    "      containers:\n",
    "        - name: ilo-infra\n",
    "          image: tb1378/iloprometheus\n",
    "          command: [\"/usr/bin/python3\"]\n",
    "          args: [\"/opt/prometheus/iloPromConnector.v3.0.py\"]\n",
    "          #command: [\"/bin/sh\"]\n",
    "          #args: [\"-c\", \"while true; do echo hello; sleep 10;done\"]\n",
    "          volumeMounts:\n",
    "            - name: iloprometheusxml\n",
    "              mountPath: /opt/prometheus/data\n",
    "      volumes:\n",
    "        - name: iloprometheusxml\n",
    "          configMap:\n",
    "            name: iloprom1-xml   # the correct name of the configmap needs to be added here. \n",
    "EOF"
   ]
  },
  {
   "cell_type": "code",
   "execution_count": 7,
   "metadata": {},
   "outputs": [
    {
     "name": "stdout",
     "output_type": "stream",
     "text": [
      "NAME                                            READY   STATUS    RESTARTS   AGE\n",
      "alletra6k-hpe-array-exporter-64f5fcdc5d-hnpgn   1/1     Running   0          17d\n",
      "dhci-hpe-array-exporter-74bccf7d76-v54t4        1/1     Running   0          17d\n",
      "grafana-8596f898ff-jxqfn                        1/1     Running   0          17d\n",
      "ilo1-696f485c69-hsvrz                           1/1     Running   0          6s\n",
      "ilo2-5955fd6c9b-79xwf                           1/1     Running   0          17d\n",
      "ilo3-7f944b58ff-8cz4p                           1/1     Running   0          17d\n",
      "ilo4-7486bfdc7d-gbkmz                           1/1     Running   0          17d\n",
      "ilo5-54c7d7b549-zg55n                           1/1     Running   0          17d\n",
      "primera630-hpe-array-exporter-544d64556-nq7b8   1/1     Running   0          17d\n",
      "primera650-hpe-array-exporter-6dfcd6688-ngn9b   1/1     Running   0          17d\n",
      "prometheus-75bf698fff-2kpdb                     1/1     Running   0          17d\n",
      "svtdemo-854bd96c8c-jz95b                        1/1     Running   0          9m59s\n",
      "svtinfra-6c5c875bc9-8jz8d                       1/1     Running   0          17d\n",
      "NAME                            READY   UP-TO-DATE   AVAILABLE   AGE\n",
      "alletra6k-hpe-array-exporter    1/1     1            1           149d\n",
      "dhci-hpe-array-exporter         1/1     1            1           371d\n",
      "grafana                         1/1     1            1           80d\n",
      "ilo1                            1/1     1            1           7s\n",
      "ilo2                            1/1     1            1           56d\n",
      "ilo3                            1/1     1            1           58d\n",
      "ilo4                            1/1     1            1           54d\n",
      "ilo5                            1/1     1            1           56d\n",
      "primera630-hpe-array-exporter   1/1     1            1           371d\n",
      "primera650-hpe-array-exporter   1/1     1            1           372d\n",
      "prometheus                      1/1     1            1           57d\n",
      "svtdemo                         1/1     1            1           9m59s\n",
      "svtinfra                        1/1     1            1           404d\n"
     ]
    }
   ],
   "source": [
    "kubectl -n svtprometheus get pods\n",
    "kubectl -n svtprometheus get deployments"
   ]
  },
  {
   "cell_type": "code",
   "execution_count": 4,
   "metadata": {},
   "outputs": [
    {
     "name": "stdout",
     "output_type": "stream",
     "text": [
      "deployment.apps \"ilo1\" deleted\n"
     ]
    }
   ],
   "source": [
    "kubectl -n svtprometheus delete deployment/ilo1"
   ]
  },
  {
   "cell_type": "code",
   "execution_count": null,
   "metadata": {},
   "outputs": [],
   "source": [
    "cat << 'EOF' | kubectl apply -f -\n",
    "apiVersion: v1\n",
    "kind: Service\n",
    "metadata:\n",
    "  name: iloredfish\n",
    "  namespace: svtprometheus\n",
    "#  labels: \n",
    "#     hpecp.hpe.com/hpecp-internal-gateway: \"true\"    \n",
    "spec:\n",
    "  selector:\n",
    "    app: ilo-infra\n",
    "  ports:\n",
    "    - port: 9091               # The Port of that the Prometheus connector uses\n",
    "      targetPort: 9091\n",
    "      protocol: TCP\n",
    "  type: NodePort               # expose the Prometheus connector if you want/need to debug it. \n",
    "EOF"
   ]
  },
  {
   "cell_type": "markdown",
   "metadata": {},
   "source": [
    "### 3.2 Group 2 - Synergy Systems"
   ]
  },
  {
   "cell_type": "code",
   "execution_count": null,
   "metadata": {},
   "outputs": [],
   "source": [
    "cat << 'EOF' | kubectl apply -f -\n",
    "apiVersion: v1\n",
    "kind: Service\n",
    "metadata:\n",
    "  name: ilo2\n",
    "  namespace: svtprometheus\n",
    "#  labels: \n",
    "#     hpecp.hpe.com/hpecp-internal-gateway: \"true\"    \n",
    "spec:\n",
    "  selector:\n",
    "    app: ilo2\n",
    "  ports:\n",
    "    - port: 9091               # The Port of that the Prometheus connector uses\n",
    "      targetPort: 9091\n",
    "      protocol: TCP\n",
    "  type: NodePort               # expose the Prometheus connector if you want/need to debug it. \n",
    "EOF"
   ]
  },
  {
   "cell_type": "code",
   "execution_count": 1,
   "metadata": {},
   "outputs": [
    {
     "name": "stdout",
     "output_type": "stream",
     "text": [
      "configmap/iloprom2-xml unchanged\n",
      "Name:         iloprom2-xml\n",
      "Namespace:    svtprometheus\n",
      "Labels:       <none>\n",
      "Annotations:  <none>\n",
      "\n",
      "Data\n",
      "====\n",
      "iloprometheus.xml:\n",
      "----\n",
      "<data> \n",
      "  <username>Prometheus</username>\n",
      "  <user>gAAAAABig6ZJgST83R7v5AFjsOKiYt0bwqBdledJpF3-TnUBR5871eNttG8P-O_eYA55-5NyyZgmmeWRnWy3hPAbUFk18_sWNw==</user>\n",
      "  <password>gAAAAABig6ZJAZL8wS41b0snZ76VWo17JysUq0-k5VjnrNUCU1y5AAPw5p1MphkFcB_u6z0TgcPbmR9yJcX39Cx0Egwv5Lou8A==</password>\n",
      "  <monitoringintervall>30</monitoringintervall>\n",
      "  <logfile>iloprom2.log</logfile>\n",
      "  <port>9091</port>\n",
      "  <server> <ILO_ip>10.0.20.66</ILO_ip>,<Rack>H5</Rack>,<Loc>HE01b1</Loc> </server>\n",
      "  <server> <ILO_ip>10.0.20.69</ILO_ip>,<Rack>H5</Rack>,<Loc>HE01b2</Loc> </server>\n",
      "  <server> <ILO_ip>10.0.20.72</ILO_ip>,<Rack>H5</Rack>,<Loc>HE01b3</Loc> </server>\n",
      "  <server> <ILO_ip>10.0.20.75</ILO_ip>,<Rack>H5</Rack>,<Loc>HE01b4</Loc> </server>\n",
      "  <server> <ILO_ip>10.0.20.78</ILO_ip>,<Rack>H5</Rack>,<Loc>HE01b5</Loc> </server>\n",
      "  <server> <ILO_ip>10.0.20.81</ILO_ip>,<Rack>H5</Rack>,<Loc>HE01b6</Loc> </server>\n",
      "  <server> <ILO_ip>10.0.20.85</ILO_ip>,<Rack>H5</Rack>,<Loc>HE01b7</Loc> </server>\n",
      "  <server> <ILO_ip>10.0.20.88</ILO_ip>,<Rack>H5</Rack>,<Loc>HE01b8</Loc> </server>\n",
      "  <server> <ILO_ip>10.0.20.90</ILO_ip>,<Rack>H5</Rack>,<Loc>HE01b9</Loc> </server>\n",
      "  <server> <ILO_ip>10.0.20.92</ILO_ip>,<Rack>H5</Rack>,<Loc>HE01b11</Loc> </server>\n",
      "  <server> <ILO_ip>10.0.20.65</ILO_ip>,<Rack>H5</Rack>,<Loc>HE11b1</Loc> </server>\n",
      "  <server> <ILO_ip>10.0.20.68</ILO_ip>,<Rack>H5</Rack>,<Loc>HE11b2</Loc> </server>\n",
      "  <server> <ILO_ip>10.0.20.71</ILO_ip>,<Rack>H5</Rack>,<Loc>HE11b3</Loc> </server>\n",
      "  <server> <ILO_ip>10.0.20.74</ILO_ip>,<Rack>H5</Rack>,<Loc>HE11b4</Loc> </server>\n",
      "  <server> <ILO_ip>10.0.20.77</ILO_ip>,<Rack>H5</Rack>,<Loc>HE11b5</Loc> </server>\n",
      "  <server> <ILO_ip>10.0.20.80</ILO_ip>,<Rack>H5</Rack>,<Loc>HE11b6</Loc> </server>\n",
      "  <server> <ILO_ip>10.0.20.83</ILO_ip>,<Rack>H5</Rack>,<Loc>HE11b7</Loc> </server>\n",
      "  <server> <ILO_ip>10.0.20.86</ILO_ip>,<Rack>H5</Rack>,<Loc>HE11b8</Loc> </server>\n",
      "  <server> <ILO_ip>10.0.20.89</ILO_ip>,<Rack>H5</Rack>,<Loc>HE11b9</Loc> </server>\n",
      "  <server> <ILO_ip>10.0.20.91</ILO_ip>,<Rack>H5</Rack>,<Loc>HE11b10</Loc> </server>\n",
      "  <server> <ILO_ip>10.0.20.64</ILO_ip>,<Rack>H5</Rack>,<Loc>HE21b1</Loc> </server>\n",
      "  <server> <ILO_ip>10.0.20.67</ILO_ip>,<Rack>H5</Rack>,<Loc>HE21b2</Loc> </server>\n",
      "  <server> <ILO_ip>10.0.20.70</ILO_ip>,<Rack>H5</Rack>,<Loc>HE21b3</Loc> </server>\n",
      "  <server> <ILO_ip>10.0.20.73</ILO_ip>,<Rack>H5</Rack>,<Loc>HE21b5</Loc> </server>\n",
      "  <server> <ILO_ip>10.0.20.76</ILO_ip>,<Rack>H5</Rack>,<Loc>HE21b6</Loc> </server>\n",
      "  <server> <ILO_ip>10.0.20.79</ILO_ip>,<Rack>H5</Rack>,<Loc>HE21b7</Loc> </server>\n",
      "  <server> <ILO_ip>10.0.20.82</ILO_ip>,<Rack>H5</Rack>,<Loc>HE21b8</Loc> </server>\n",
      "  <server> <ILO_ip>10.0.20.84</ILO_ip>,<Rack>H5</Rack>,<Loc>HE21b9</Loc> </server>\n",
      "  <server> <ILO_ip>10.0.20.87</ILO_ip>,<Rack>H5</Rack>,<Loc>HE21b10</Loc> </server>\n",
      "  <server> <ILO_ip>10.0.20.59</ILO_ip>,<Rack>i5</Rack>,<Loc>HE21b1</Loc> </server>\n",
      "  <server> <ILO_ip>10.0.20.60</ILO_ip>,<Rack>i5</Rack>,<Loc>HE21b2</Loc> </server>\n",
      "  <server> <ILO_ip>10.0.20.61</ILO_ip>,<Rack>i5</Rack>,<Loc>HE21b3</Loc> </server>\n",
      "  <server> <ILO_ip>10.0.20.62</ILO_ip>,<Rack>i5</Rack>,<Loc>HE21b4</Loc> </server>\n",
      "  <server> <ILO_ip>10.0.20.63</ILO_ip>,<Rack>i5</Rack>,<Loc>HE21b5</Loc> </server>\n",
      "</data>\n",
      "iloprometheus.key:\n",
      "----\n",
      "LVkjkV5j40Fl6U0O7ratU0RDf5W1NmAE0oqoQ2DaE74=\n",
      "\n",
      "BinaryData\n",
      "====\n",
      "\n",
      "Events:  <none>\n"
     ]
    }
   ],
   "source": [
    "# apply the configmaps \n",
    "kubectl apply -f iloprom2.yml\n",
    "kubectl -n svtprometheus describe configmap/iloprom2-xml"
   ]
  },
  {
   "cell_type": "code",
   "execution_count": null,
   "metadata": {},
   "outputs": [],
   "source": [
    "kubectl -n svtprometheus describe configmap/iloprom2-xml"
   ]
  },
  {
   "cell_type": "code",
   "execution_count": 6,
   "metadata": {},
   "outputs": [
    {
     "name": "stdout",
     "output_type": "stream",
     "text": [
      "deployment.apps/ilo2 created\n"
     ]
    }
   ],
   "source": [
    "cat << 'EOF' | kubectl apply -f -\n",
    "apiVersion: apps/v1\n",
    "kind: Deployment\n",
    "metadata:\n",
    "  name: ilo2\n",
    "  namespace: svtprometheus\n",
    "  labels:\n",
    "    app: ilo2\n",
    "spec:\n",
    "  selector:\n",
    "    matchLabels:\n",
    "      app: ilo2\n",
    "  template:\n",
    "    metadata:\n",
    "      labels:\n",
    "        app: ilo2\n",
    "    spec:\n",
    "      containers:\n",
    "        - name: ilo2\n",
    "          image: tb1378/iloprometheus\n",
    "          command: [\"/usr/bin/python3\"]\n",
    "          args: [\"/opt/prometheus/iloPromConnector.v3.0.py\"]\n",
    "          #command: [\"/bin/sh\"]\n",
    "          #args: [\"-c\", \"while true; do echo hello; sleep 10;done\"]\n",
    "          volumeMounts:\n",
    "            - name: iloprometheusxml\n",
    "              mountPath: /opt/prometheus/data\n",
    "      volumes:\n",
    "        - name: iloprometheusxml\n",
    "          configMap:\n",
    "            name: iloprom2-xml   # the correct name of the configmap needs to be added here. \n",
    "EOF"
   ]
  },
  {
   "cell_type": "code",
   "execution_count": 4,
   "metadata": {},
   "outputs": [
    {
     "name": "stdout",
     "output_type": "stream",
     "text": [
      "deployment.apps \"ilo2\" deleted\n"
     ]
    }
   ],
   "source": [
    "kubectl -n svtprometheus delete deployment/ilo2"
   ]
  },
  {
   "cell_type": "code",
   "execution_count": 3,
   "metadata": {},
   "outputs": [
    {
     "name": "stdout",
     "output_type": "stream",
     "text": [
      "NAME                            READY   UP-TO-DATE   AVAILABLE   AGE\n",
      "alletra6k-hpe-array-exporter    1/1     1            1           149d\n",
      "dhci-hpe-array-exporter         1/1     1            1           371d\n",
      "grafana                         1/1     1            1           80d\n",
      "ilo1                            1/1     1            1           56d\n",
      "ilo2                            1/1     1            1           56d\n",
      "ilo3                            1/1     1            1           58d\n",
      "ilo4                            1/1     1            1           54d\n",
      "ilo5                            1/1     1            1           56d\n",
      "primera630-hpe-array-exporter   1/1     1            1           371d\n",
      "primera650-hpe-array-exporter   1/1     1            1           371d\n",
      "prometheus                      1/1     1            1           57d\n",
      "svtdemo                         1/1     1            1           5m38s\n",
      "svtinfra                        1/1     1            1           404d\n",
      "NAME                                            READY   STATUS    RESTARTS   AGE\n",
      "alletra6k-hpe-array-exporter-64f5fcdc5d-hnpgn   1/1     Running   0          17d\n",
      "dhci-hpe-array-exporter-74bccf7d76-v54t4        1/1     Running   0          17d\n",
      "grafana-8596f898ff-jxqfn                        1/1     Running   0          17d\n",
      "ilo1-696f485c69-txvf7                           1/1     Running   0          17d\n",
      "ilo2-5955fd6c9b-79xwf                           1/1     Running   0          17d\n",
      "ilo3-7f944b58ff-8cz4p                           1/1     Running   0          17d\n",
      "ilo4-7486bfdc7d-gbkmz                           1/1     Running   0          17d\n",
      "ilo5-54c7d7b549-zg55n                           1/1     Running   0          17d\n",
      "primera630-hpe-array-exporter-544d64556-nq7b8   1/1     Running   0          17d\n",
      "primera650-hpe-array-exporter-6dfcd6688-ngn9b   1/1     Running   0          17d\n",
      "prometheus-75bf698fff-2kpdb                     1/1     Running   0          17d\n",
      "svtdemo-854bd96c8c-jz95b                        1/1     Running   0          5m39s\n",
      "svtinfra-6c5c875bc9-8jz8d                       1/1     Running   0          17d\n",
      "NAME                            TYPE        CLUSTER-IP       EXTERNAL-IP   PORT(S)          AGE\n",
      "alletra6k-hpe-array-exporter    NodePort    10.108.226.130   <none>        9090:32714/TCP   149d\n",
      "dhci-hpe-array-exporter         ClusterIP   10.98.60.160     <none>        9090/TCP         371d\n",
      "grafana-service                 NodePort    10.99.178.61     <none>        3000:31200/TCP   404d\n",
      "ilo2                            NodePort    10.110.182.5     <none>        9091:31107/TCP   62d\n",
      "ilo3                            NodePort    10.109.45.7      <none>        9091:30291/TCP   58d\n",
      "ilo4                            NodePort    10.108.224.80    <none>        9091:32761/TCP   58d\n",
      "ilo5                            NodePort    10.100.192.31    <none>        9091:31598/TCP   57d\n",
      "iloredfish                      NodePort    10.101.190.222   <none>        9091:31949/TCP   148d\n",
      "ilotest                         NodePort    10.98.222.184    <none>        9091:31524/TCP   62d\n",
      "primera630-hpe-array-exporter   NodePort    10.103.139.106   <none>        9090:32110/TCP   371d\n",
      "primera650-hpe-array-exporter   NodePort    10.104.179.2     <none>        9090:30467/TCP   371d\n",
      "prometheus                      NodePort    10.96.144.183    <none>        9090:30585/TCP   404d\n",
      "svtdemo                         NodePort    10.108.124.136   <none>        9091:31390/TCP   404d\n",
      "svtinfra                        NodePort    10.107.29.214    <none>        9091:30441/TCP   404d\n"
     ]
    }
   ],
   "source": [
    "kubectl -n svtprometheus get deployments\n",
    "kubectl -n svtprometheus get pods\n",
    "kubectl -n svtprometheus get svc"
   ]
  },
  {
   "cell_type": "code",
   "execution_count": null,
   "metadata": {},
   "outputs": [],
   "source": [
    "kubectl -n svtprometheus logs pod/ilo2-5955fd6c9b-tsm8g"
   ]
  },
  {
   "cell_type": "markdown",
   "metadata": {},
   "source": [
    "### 3.3 Group 3"
   ]
  },
  {
   "cell_type": "code",
   "execution_count": null,
   "metadata": {},
   "outputs": [],
   "source": [
    "cat << 'EOF' | kubectl apply -f -\n",
    "apiVersion: v1\n",
    "kind: Service\n",
    "metadata:\n",
    "  name: ilo3\n",
    "  namespace: svtprometheus\n",
    "#  labels: \n",
    "#     hpecp.hpe.com/hpecp-internal-gateway: \"true\"    \n",
    "spec:\n",
    "  selector:\n",
    "    app: ilo3\n",
    "  ports:\n",
    "    - port: 9091               # The Port of that the Prometheus connector uses\n",
    "      targetPort: 9091\n",
    "      protocol: TCP\n",
    "  type: NodePort               # expose the Prometheus connector if you want/need to debug it. \n",
    "EOF"
   ]
  },
  {
   "cell_type": "code",
   "execution_count": null,
   "metadata": {},
   "outputs": [],
   "source": [
    "kubectl apply -f iloprom3.yml\n"
   ]
  },
  {
   "cell_type": "code",
   "execution_count": 8,
   "metadata": {},
   "outputs": [
    {
     "name": "stdout",
     "output_type": "stream",
     "text": [
      "Name:         iloprom3-xml\n",
      "Namespace:    svtprometheus\n",
      "Labels:       <none>\n",
      "Annotations:  <none>\n",
      "\n",
      "Data\n",
      "====\n",
      "iloprometheus.key:\n",
      "----\n",
      "LVkjkV5j40Fl6U0O7ratU0RDf5W1NmAE0oqoQ2DaE74=\n",
      "iloprometheus.xml:\n",
      "----\n",
      "<data> \n",
      "  <username>Prometheus</username>\n",
      "  <user>gAAAAABig6ZJgST83R7v5AFjsOKiYt0bwqBdledJpF3-TnUBR5871eNttG8P-O_eYA55-5NyyZgmmeWRnWy3hPAbUFk18_sWNw==</user>\n",
      "  <password>gAAAAABig6ZJAZL8wS41b0snZ76VWo17JysUq0-k5VjnrNUCU1y5AAPw5p1MphkFcB_u6z0TgcPbmR9yJcX39Cx0Egwv5Lou8A==</password>\n",
      "  <monitoringintervall>30</monitoringintervall>\n",
      "  <logfile>iloprom2.log</logfile>\n",
      "  <port>9091</port>\n",
      "  <server> <ILO_ip>10.1.80.11</ILO_ip>,<Rack>G5</Rack>,<Loc>7</Loc> </server>\n",
      "  <server> <ILO_ip>10.1.80.12</ILO_ip>,<Rack>G5</Rack>,<Loc>5</Loc> </server>\n",
      "  <server> <ILO_ip>10.1.80.13</ILO_ip>,<Rack>G5</Rack>,<Loc>3</Loc> </server>\n",
      "  <server> <ILO_ip>10.1.80.14</ILO_ip>,<Rack>G5</Rack>,<Loc>1</Loc> </server>\n",
      "  <server> <ILO_ip>10.1.43.30</ILO_ip>,<Rack>F5</Rack>,<Loc>35</Loc> </server>\n",
      "  <server> <ILO_ip>10.0.20.222</ILO_ip>,<Rack>i5</Rack>,<Loc>35</Loc> </server>\n",
      "  <server> <ILO_ip>10.0.20.220</ILO_ip>,<Rack>i5</Rack>,<Loc>34</Loc> </server>\n",
      "  <server> <ILO_ip>10.1.29.50</ILO_ip>,<Rack>G5</Rack>,<Loc>13</Loc> </server>\n",
      "  <server> <ILO_ip>10.1.29.52</ILO_ip>,<Rack>G5</Rack>,<Loc>12</Loc> </server>\n",
      "  <server> <ILO_ip>10.0.74.13</ILO_ip>,<Rack>F5</Rack>,<Loc>32</Loc> </server>  \n",
      "  <server> <ILO_ip>10.1.24.10</ILO_ip>,<Rack>C5</Rack>,<Loc>18</Loc> </server>\n",
      "  <server> <ILO_ip>10.1.24.11</ILO_ip>,<Rack>C5</Rack>,<Loc>17</Loc> </server>\n",
      "  <server> <ILO_ip>10.1.24.12</ILO_ip>,<Rack>C5</Rack>,<Loc>16</Loc> </server>\n",
      "  <server> <ILO_ip>10.1.24.13</ILO_ip>,<Rack>D5</Rack>,<Loc>19</Loc> </server>\n",
      "  <server> <ILO_ip>10.1.71.240</ILO_ip>,<Rack>G12</Rack>,<Loc>29</Loc> </server>\n",
      "</data>\n",
      "\n",
      "BinaryData\n",
      "====\n",
      "\n",
      "Events:  <none>\n"
     ]
    }
   ],
   "source": [
    "kubectl -n svtprometheus describe configmap/iloprom3-xml"
   ]
  },
  {
   "cell_type": "code",
   "execution_count": null,
   "metadata": {},
   "outputs": [],
   "source": [
    "cat << 'EOF' | kubectl apply -f -\n",
    "apiVersion: apps/v1\n",
    "kind: Deployment\n",
    "metadata:\n",
    "  name: ilo3\n",
    "  namespace: svtprometheus\n",
    "  labels:\n",
    "    app: ilo3\n",
    "spec:\n",
    "  selector:\n",
    "    matchLabels:\n",
    "      app: ilo3\n",
    "  template:\n",
    "    metadata:\n",
    "      labels:\n",
    "        app: ilo3\n",
    "    spec:\n",
    "      containers:\n",
    "        - name: ilo3\n",
    "          image: tb1378/iloprometheus\n",
    "          command: [\"/usr/bin/python3\"]\n",
    "          args: [\"/opt/prometheus/iloPromConnector.v3.0.py\"]\n",
    "          #command: [\"/bin/sh\"]\n",
    "          #args: [\"-c\", \"while true; do echo hello; sleep 10;done\"]\n",
    "          volumeMounts:\n",
    "            - name: iloprometheusxml\n",
    "              mountPath: /opt/prometheus/data\n",
    "      volumes:\n",
    "        - name: iloprometheusxml\n",
    "          configMap:\n",
    "            name: iloprom3-xml   # the correct name of the configmap needs to be added here. \n",
    "EOF"
   ]
  },
  {
   "cell_type": "code",
   "execution_count": null,
   "metadata": {},
   "outputs": [],
   "source": [
    "kubectl -n svtprometheus get deployments\n",
    "kubectl -n svtprometheus get pods\n",
    "kubectl -n svtprometheus get svc"
   ]
  },
  {
   "cell_type": "code",
   "execution_count": null,
   "metadata": {},
   "outputs": [],
   "source": [
    "kubectl -n svtprometheus delete deployment/ilo3\n",
    "#kubectl -n svtprometheus delete svc/ilo3"
   ]
  },
  {
   "cell_type": "code",
   "execution_count": null,
   "metadata": {},
   "outputs": [],
   "source": [
    "kubectl -n svtprometheus logs pod/ilo1-696f485c69-hwbzm "
   ]
  },
  {
   "cell_type": "code",
   "execution_count": null,
   "metadata": {},
   "outputs": [],
   "source": [
    "kubectl -n svtprometheus get configmaps"
   ]
  },
  {
   "cell_type": "markdown",
   "metadata": {},
   "source": [
    "### 3.4 Group 4"
   ]
  },
  {
   "cell_type": "code",
   "execution_count": null,
   "metadata": {},
   "outputs": [],
   "source": [
    "cat << 'EOF' | kubectl apply -f -\n",
    "apiVersion: v1\n",
    "kind: Service\n",
    "metadata:\n",
    "  name: ilo4\n",
    "  namespace: svtprometheus\n",
    "#  labels: \n",
    "#     hpecp.hpe.com/hpecp-internal-gateway: \"true\"    \n",
    "spec:\n",
    "  selector:\n",
    "    app: ilo4\n",
    "  ports:\n",
    "    - port: 9091               # The Port of that the Prometheus connector uses\n",
    "      targetPort: 9091\n",
    "      protocol: TCP\n",
    "  type: NodePort               # expose the Prometheus connector if you want/need to debug it. \n",
    "EOF"
   ]
  },
  {
   "cell_type": "code",
   "execution_count": 9,
   "metadata": {},
   "outputs": [
    {
     "name": "stdout",
     "output_type": "stream",
     "text": [
      "configmap/iloprom4-xml configured\n",
      "Name:         iloprom4-xml\n",
      "Namespace:    svtprometheus\n",
      "Labels:       <none>\n",
      "Annotations:  <none>\n",
      "\n",
      "Data\n",
      "====\n",
      "iloprometheus.key:\n",
      "----\n",
      "LVkjkV5j40Fl6U0O7ratU0RDf5W1NmAE0oqoQ2DaE74=\n",
      "iloprometheus.xml:\n",
      "----\n",
      "<data> \n",
      "  <username>Prometheus</username>\n",
      "  <user>gAAAAABig6ZJgST83R7v5AFjsOKiYt0bwqBdledJpF3-TnUBR5871eNttG8P-O_eYA55-5NyyZgmmeWRnWy3hPAbUFk18_sWNw==</user>\n",
      "  <password>gAAAAABig6ZJAZL8wS41b0snZ76VWo17JysUq0-k5VjnrNUCU1y5AAPw5p1MphkFcB_u6z0TgcPbmR9yJcX39Cx0Egwv5Lou8A==</password>\n",
      "  <monitoringintervall>30</monitoringintervall>\n",
      "  <logfile>iloprom2.log</logfile>\n",
      "  <port>9091</port>\n",
      "  <server> <ILO_ip>10.1.43.11</ILO_ip>,<Rack>i12</Rack>,<Loc>1</Loc> </server>\n",
      "  <server> <ILO_ip>10.1.43.12</ILO_ip>,<Rack>i12</Rack>,<Loc>12</Loc> </server>\n",
      "  <server> <ILO_ip>10.1.24.41</ILO_ip>,<Rack>D5</Rack>,<Loc>11</Loc> </server>\n",
      "  <server> <ILO_ip>10.1.24.42</ILO_ip>,<Rack>D5</Rack>,<Loc>9</Loc> </server>\n",
      "  <server> <ILO_ip>10.1.24.43</ILO_ip>,<Rack>D5</Rack>,<Loc>7</Loc> </server>\n",
      "  <server> <ILO_ip>10.1.24.44</ILO_ip>,<Rack>C5</Rack>,<Loc>3</Loc> </server>\n",
      "  <server> <ILO_ip>10.1.24.45</ILO_ip>,<Rack>C5</Rack>,<Loc>1</Loc> </server>\n",
      "  <server> <ILO_ip>10.1.24.46</ILO_ip>,<Rack>D5</Rack>,<Loc>5</Loc> </server>\n",
      "  <server> <ILO_ip>10.1.24.47</ILO_ip>,<Rack>D5</Rack>,<Loc>3</Loc> </server>\n",
      "  <server> <ILO_ip>10.1.24.48</ILO_ip>,<Rack>D5</Rack>,<Loc>1</Loc> </server>\n",
      "  <server> <ILO_ip>10.1.24.64</ILO_ip>,<Rack>C5</Rack>,<Loc>20</Loc> </server>\n",
      "  <server> <ILO_ip>10.1.71.235</ILO_ip>,<Rack>F5</Rack>,<Loc>1</Loc> </server>      \n",
      "  <server> <ILO_ip>10.1.83.51</ILO_ip>,<Rack>F5</Rack>,<Loc>9</Loc> </server>\n",
      "</data>\n",
      "\n",
      "BinaryData\n",
      "====\n",
      "\n",
      "Events:  <none>\n"
     ]
    }
   ],
   "source": [
    "kubectl apply -f iloprom4.yml\n",
    "kubectl -n svtprometheus describe configmap/iloprom4-xml"
   ]
  },
  {
   "cell_type": "code",
   "execution_count": 11,
   "metadata": {},
   "outputs": [
    {
     "name": "stdout",
     "output_type": "stream",
     "text": [
      "deployment.apps/ilo4 created\n"
     ]
    }
   ],
   "source": [
    "cat << 'EOF' | kubectl apply -f -\n",
    "apiVersion: apps/v1\n",
    "kind: Deployment\n",
    "metadata:\n",
    "  name: ilo4\n",
    "  namespace: svtprometheus\n",
    "  labels:\n",
    "    app: ilo4\n",
    "spec:\n",
    "  selector:\n",
    "    matchLabels:\n",
    "      app: ilo4\n",
    "  template:\n",
    "    metadata:\n",
    "      labels:\n",
    "        app: ilo4\n",
    "    spec:\n",
    "      containers:\n",
    "        - name: ilo4\n",
    "          image: tb1378/iloprometheus\n",
    "          command: [\"/usr/bin/python3\"]\n",
    "          args: [\"/opt/prometheus/iloPromConnector.v3.0.py\"]\n",
    "          #command: [\"/bin/sh\"]\n",
    "          #args: [\"-c\", \"while true; do echo hello; sleep 10;done\"]\n",
    "          volumeMounts:\n",
    "            - name: iloprometheusxml\n",
    "              mountPath: /opt/prometheus/data\n",
    "      volumes:\n",
    "        - name: iloprometheusxml\n",
    "          configMap:\n",
    "            name: iloprom4-xml   # the correct name of the configmap needs to be added here. \n",
    "EOF"
   ]
  },
  {
   "cell_type": "code",
   "execution_count": 12,
   "metadata": {},
   "outputs": [
    {
     "name": "stdout",
     "output_type": "stream",
     "text": [
      "NAME                            READY   UP-TO-DATE   AVAILABLE   AGE\n",
      "alletra6k-hpe-array-exporter    1/1     1            1           94d\n",
      "dhci-hpe-array-exporter         1/1     1            1           316d\n",
      "grafana                         1/1     1            1           25d\n",
      "ilo1                            1/1     1            1           27h\n",
      "ilo2                            1/1     1            1           26h\n",
      "ilo3                            1/1     1            1           3d6h\n",
      "ilo4                            1/1     1            1           5s\n",
      "ilo5                            1/1     1            1           27h\n",
      "primera630-hpe-array-exporter   1/1     1            1           317d\n",
      "primera650-hpe-array-exporter   1/1     1            1           317d\n",
      "prometheus                      1/1     1            1           2d21h\n",
      "svtdemo                         1/1     1            1           135d\n",
      "svtinfra                        1/1     1            1           349d\n",
      "NAME                                            READY   STATUS        RESTARTS   AGE\n",
      "alletra6k-hpe-array-exporter-64f5fcdc5d-swzs4   1/1     Running       0          30d\n",
      "dhci-hpe-array-exporter-74bccf7d76-4m4qg        1/1     Running       0          98d\n",
      "grafana-8596f898ff-xcctp                        1/1     Running       1          25d\n",
      "ilo1-696f485c69-mddb9                           1/1     Running       0          27h\n",
      "ilo2-5955fd6c9b-k4q9x                           1/1     Running       0          26h\n",
      "ilo3-7f944b58ff-thqhv                           1/1     Running       0          3d6h\n",
      "ilo4-7486bfdc7d-tpfs5                           1/1     Running       0          4s\n",
      "ilo4-dbd4fc87f-pcf57                            1/1     Terminating   0          2d21h\n",
      "ilo5-54c7d7b549-r2w5z                           1/1     Running       0          27h\n",
      "primera630-hpe-array-exporter-544d64556-mlfwf   1/1     Running       0          98d\n",
      "primera650-hpe-array-exporter-6dfcd6688-hfnlv   1/1     Running       1          98d\n",
      "prometheus-75bf698fff-9mhc8                     1/1     Running       0          2d21h\n",
      "svtdemo-854bd96c8c-mt4pm                        1/1     Running       682        98d\n",
      "svtinfra-6c5c875bc9-dsfsr                       1/1     Running       0          98d\n",
      "NAME                            TYPE        CLUSTER-IP       EXTERNAL-IP   PORT(S)          AGE\n",
      "alletra6k-hpe-array-exporter    NodePort    10.108.226.130   <none>        9090:32714/TCP   94d\n",
      "dhci-hpe-array-exporter         ClusterIP   10.98.60.160     <none>        9090/TCP         316d\n",
      "grafana-service                 NodePort    10.99.178.61     <none>        3000:31200/TCP   349d\n",
      "ilo2                            NodePort    10.110.182.5     <none>        9091:31107/TCP   7d21h\n",
      "ilo3                            NodePort    10.109.45.7      <none>        9091:30291/TCP   3d6h\n",
      "ilo4                            NodePort    10.108.224.80    <none>        9091:32761/TCP   3d6h\n",
      "ilo5                            NodePort    10.100.192.31    <none>        9091:31598/TCP   2d21h\n",
      "iloredfish                      NodePort    10.101.190.222   <none>        9091:31949/TCP   93d\n",
      "ilotest                         NodePort    10.98.222.184    <none>        9091:31524/TCP   7d21h\n",
      "primera630-hpe-array-exporter   NodePort    10.103.139.106   <none>        9090:32110/TCP   317d\n",
      "primera650-hpe-array-exporter   NodePort    10.104.179.2     <none>        9090:30467/TCP   317d\n",
      "prometheus                      NodePort    10.96.144.183    <none>        9090:30585/TCP   349d\n",
      "svtdemo                         NodePort    10.108.124.136   <none>        9091:31390/TCP   349d\n",
      "svtinfra                        NodePort    10.107.29.214    <none>        9091:30441/TCP   349d\n"
     ]
    }
   ],
   "source": [
    "kubectl -n svtprometheus get deployments\n",
    "kubectl -n svtprometheus get pods\n",
    "kubectl -n svtprometheus get svc"
   ]
  },
  {
   "cell_type": "code",
   "execution_count": 10,
   "metadata": {},
   "outputs": [
    {
     "name": "stdout",
     "output_type": "stream",
     "text": [
      "deployment.apps \"ilo4\" deleted\n"
     ]
    }
   ],
   "source": [
    "kubectl -n svtprometheus delete deployment/ilo4"
   ]
  },
  {
   "cell_type": "markdown",
   "metadata": {},
   "source": [
    "### 3.5 Group 5"
   ]
  },
  {
   "cell_type": "code",
   "execution_count": null,
   "metadata": {},
   "outputs": [],
   "source": [
    "cat << 'EOF' | kubectl apply -f -\n",
    "apiVersion: v1\n",
    "kind: Service\n",
    "metadata:\n",
    "  name: ilo5\n",
    "  namespace: svtprometheus\n",
    "#  labels: \n",
    "#     hpecp.hpe.com/hpecp-internal-gateway: \"true\"    \n",
    "spec:\n",
    "  selector:\n",
    "    app: ilo5\n",
    "  ports:\n",
    "    - port: 9091               # The Port of that the Prometheus connector uses\n",
    "      targetPort: 9091\n",
    "      protocol: TCP\n",
    "  type: NodePort               # expose the Prometheus connector if you want/need to debug it. \n",
    "EOF"
   ]
  },
  {
   "cell_type": "code",
   "execution_count": null,
   "metadata": {},
   "outputs": [],
   "source": [
    "kubectl apply -f iloprom5.yml\n",
    "kubectl -n svtprometheus describe configmap/iloprom5-xml"
   ]
  },
  {
   "cell_type": "code",
   "execution_count": null,
   "metadata": {},
   "outputs": [],
   "source": [
    "cat << 'EOF' | kubectl apply -f -\n",
    "apiVersion: apps/v1\n",
    "kind: Deployment\n",
    "metadata:\n",
    "  name: ilo5\n",
    "  namespace: svtprometheus\n",
    "  labels:\n",
    "    app: ilo5\n",
    "spec:\n",
    "  selector:\n",
    "    matchLabels:\n",
    "      app: ilo5\n",
    "  template:\n",
    "    metadata:\n",
    "      labels:\n",
    "        app: ilo5\n",
    "    spec:\n",
    "      containers:\n",
    "        - name: ilo5\n",
    "          image: tb1378/iloprometheus\n",
    "          command: [\"/usr/bin/python3\"]\n",
    "          args: [\"/opt/prometheus/iloPromConnector.v3.0.py\"]\n",
    "          #command: [\"/bin/sh\"]\n",
    "          #args: [\"-c\", \"while true; do echo hello; sleep 10;done\"]\n",
    "          volumeMounts:\n",
    "            - name: iloprometheusxml\n",
    "              mountPath: /opt/prometheus/data\n",
    "      volumes:\n",
    "        - name: iloprometheusxml\n",
    "          configMap:\n",
    "            name: iloprom5-xml   # the correct name of the configmap needs to be added here. \n",
    "EOF"
   ]
  },
  {
   "cell_type": "code",
   "execution_count": null,
   "metadata": {},
   "outputs": [],
   "source": [
    "kubectl -n svtprometheus delete deployment/ilo5"
   ]
  },
  {
   "cell_type": "code",
   "execution_count": null,
   "metadata": {},
   "outputs": [],
   "source": [
    "kubectl -n svtprometheus get deployments\n",
    "kubectl -n svtprometheus get pods\n",
    "kubectl -n svtprometheus get svc"
   ]
  },
  {
   "cell_type": "code",
   "execution_count": null,
   "metadata": {},
   "outputs": [],
   "source": []
  },
  {
   "cell_type": "markdown",
   "metadata": {},
   "source": [
    "# Delete the Deployment and the Service"
   ]
  },
  {
   "cell_type": "code",
   "execution_count": null,
   "metadata": {},
   "outputs": [],
   "source": [
    "kubectl -n svtprometheus delete deployment/iloredfish"
   ]
  },
  {
   "cell_type": "code",
   "execution_count": null,
   "metadata": {},
   "outputs": [],
   "source": [
    "kubectl -n svtprometheus delete svc/ilosynergy"
   ]
  }
 ],
 "metadata": {
  "kernelspec": {
   "display_name": "Bash",
   "language": "bash",
   "name": "bash"
  },
  "language_info": {
   "codemirror_mode": "shell",
   "file_extension": ".sh",
   "mimetype": "text/x-sh",
   "name": "bash"
  }
 },
 "nbformat": 4,
 "nbformat_minor": 4
}

{
 "cells": [
  {
   "cell_type": "markdown",
   "metadata": {},
   "source": [
    "# HPE ILO Redfish - Prometheus - Grafana Monitoring"
   ]
  },
  {
   "cell_type": "markdown",
   "metadata": {},
   "source": [
    "This Jupyter notebook describes the deployment of the monitoring of aHPE Server, using the ILO Redfish connector for Prometheus and the Grafana visualization tool \n",
    "\n",
    "The solution described is is deployed on a Kubernetes 1.20.10 cluster deployed in the Customer Technology Center Boeblingen, i.e. all parts of the monitoring stack are deployed as container."
   ]
  },
  {
   "cell_type": "markdown",
   "metadata": {},
   "source": [
    "## Connect to the Kubernetes environment\n",
    "\n",
    "Check that you are connected to the correct Kubernetes cluster. If not use the ClusterConnection Notebook in the Toolkit to get connected to the correct Kubernetes cluster: suo04k8s. All Grafana Monitoring is located in the svtprometheus namespace. "
   ]
  },
  {
   "cell_type": "code",
   "execution_count": null,
   "metadata": {},
   "outputs": [],
   "source": [
    "kubectl get nodes\n",
    "kubectl -n svtprometheus get pods,svc"
   ]
  },
  {
   "cell_type": "markdown",
   "metadata": {},
   "source": [
    "## 1. Create the namespace\n",
    "\n",
    "Create a namespace for your deployment. The example below creates the namespace svtprometheus. "
   ]
  },
  {
   "cell_type": "code",
   "execution_count": null,
   "metadata": {},
   "outputs": [],
   "source": [
    "# Example content of the namespace.yml file - either run the command above or this one to create the namespace\n",
    "cat << 'EOF' | kubectl apply -f -\n",
    "apiVersion: v1\n",
    "kind: Namespace\n",
    "metadata:\n",
    "  name: svtprometheus\n",
    "EOF"
   ]
  },
  {
   "cell_type": "markdown",
   "metadata": {},
   "source": [
    "## 2. Create the ConfigMap\n",
    "\n",
    "The connection and monitoring parameters are transferred to the HPE ILO Redfish Prometheus connector as a Kubernetes ConfigMap. \n",
    "\n",
    "The ConfigMap can be created using th Python script: createILOcredentials.v1.0.py. \n",
    "\n",
    "Requirements:\n",
    "    - System with Python 3 and the following Python packages installed: \n",
    "      - Fernet\n",
    "      - getpass\n",
    "      - etree\n",
    "\n",
    "Run the script with the following command: python3 createILOcredentials.v1.0.py\n",
    "The script will ask for the following information:\n",
    "    - username               ILO username (requires read only access) \n",
    "    - password               ILO password\n",
    "    - Logfile                Logfile name\n",
    "    - Connector Port         TCP Port that the connector uses to publish the counters.\n",
    "    - Filename               name of the yml-file (<name>.yml) and the configmap: <name>-xml\n",
    "    - Monitoringintervall    Monitorintervall in seconds\n",
    "    - ILO IP Address         ILO IP address (asks for it until you enter: 0)\n",
    "    \n",
    "\n",
    "It will create the Kubernetes yml-file (<name>.yml) that can be used to  create the Configmap <name>-xml \n",
    "    "
   ]
  },
  {
   "cell_type": "code",
   "execution_count": null,
   "metadata": {},
   "outputs": [],
   "source": [
    "pwd\n",
    "ls -l"
   ]
  },
  {
   "cell_type": "code",
   "execution_count": null,
   "metadata": {
    "vscode": {
     "languageId": "shellscript"
    }
   },
   "outputs": [],
   "source": [
    "python createILOcredentials.v1.0.py"
   ]
  },
  {
   "cell_type": "markdown",
   "metadata": {},
   "source": [
    "The configmap definition need to be applied now. "
   ]
  },
  {
   "cell_type": "code",
   "execution_count": null,
   "metadata": {},
   "outputs": [],
   "source": [
    "kubectl apply -f iloprometheus.yml"
   ]
  },
  {
   "cell_type": "markdown",
   "metadata": {},
   "source": [
    "Check that the configmap is created properly"
   ]
  },
  {
   "cell_type": "code",
   "execution_count": null,
   "metadata": {},
   "outputs": [],
   "source": [
    "kubectl -n svtprometheus get configmap"
   ]
  },
  {
   "cell_type": "code",
   "execution_count": null,
   "metadata": {},
   "outputs": [],
   "source": [
    "kubectl -n svtprometheus describe configmap/iloprometheus-xml"
   ]
  },
  {
   "cell_type": "markdown",
   "metadata": {},
   "source": [
    "## 3. Create the ILO Redfish Connector POD and Service with the Config Maps"
   ]
  },
  {
   "cell_type": "markdown",
   "metadata": {},
   "source": [
    "After having the configmap created the ILO Redfish connector can be deployed now. The configmap will be mounted to /opt/prometheus/data and will provide the necessary configuration data for the connector. "
   ]
  },
  {
   "cell_type": "code",
   "execution_count": null,
   "metadata": {},
   "outputs": [],
   "source": [
    "cat << 'EOF' | kubectl apply -f -\n",
    "apiVersion: apps/v1\n",
    "kind: Deployment\n",
    "metadata:\n",
    "  name: iloredfish\n",
    "  namespace: svtprometheus\n",
    "  labels:\n",
    "    app: iloredfish\n",
    "spec:\n",
    "  selector:\n",
    "    matchLabels:\n",
    "      app: iloredfish\n",
    "  template:\n",
    "    metadata:\n",
    "      labels:\n",
    "        app: iloredfish\n",
    "    spec:\n",
    "      containers:\n",
    "        - name: iloredfish\n",
    "          image: tb1378/iloprometheus\n",
    "          command: [\"/usr/bin/python3\"]\n",
    "          args: [\"/opt/prometheus/iloPromConnector.v1.0.py\"]\n",
    "          volumeMounts:\n",
    "            - name: iloprometheusxml\n",
    "              mountPath: /opt/prometheus/data\n",
    "      volumes:\n",
    "        - name: iloprometheusxml\n",
    "          configMap:\n",
    "            name: iloprometheus-xml   # the correct name of the configmap needs to be added here. \n",
    "EOF"
   ]
  },
  {
   "cell_type": "markdown",
   "metadata": {},
   "source": [
    "The ILO Redfish connector need to be exported as a service in order to be able to collect the data with Prometheus."
   ]
  },
  {
   "cell_type": "code",
   "execution_count": null,
   "metadata": {},
   "outputs": [],
   "source": [
    "cat << 'EOF' | kubectl apply -f -\n",
    "apiVersion: v1\n",
    "kind: Service\n",
    "metadata:\n",
    "  name: iloredfish\n",
    "  namespace: svtprometheus\n",
    "#  labels: \n",
    "#     hpecp.hpe.com/hpecp-internal-gateway: \"true\"    \n",
    "spec:\n",
    "  selector:\n",
    "    app: iloredfish\n",
    "  ports:\n",
    "    - port: 9091               # The Port of that the Prometheus connector uses\n",
    "      targetPort: 9091\n",
    "      protocol: TCP\n",
    "  type: NodePort               # expose the Prometheus connector if you want/need to debug it. \n",
    "EOF"
   ]
  },
  {
   "cell_type": "markdown",
   "metadata": {},
   "source": [
    "# Troubleshooting\n",
    "\n",
    "First check the deployments, services and pods running in the namespaces."
   ]
  },
  {
   "cell_type": "code",
   "execution_count": null,
   "metadata": {},
   "outputs": [],
   "source": [
    "kubectl -n svtprometheus get deployments\n",
    "kubectl -n svtprometheus get svc\n",
    "kubectl -n svtprometheus get pods"
   ]
  },
  {
   "cell_type": "markdown",
   "metadata": {},
   "source": [
    "Second check the logs of the pod."
   ]
  },
  {
   "cell_type": "code",
   "execution_count": null,
   "metadata": {},
   "outputs": [],
   "source": [
    "kubectl -n svtprometheus logs pod/iloredfish-5569d54664-rbc7b"
   ]
  },
  {
   "cell_type": "markdown",
   "metadata": {},
   "source": [
    "# Delete the Deployment and the Service"
   ]
  },
  {
   "cell_type": "code",
   "execution_count": null,
   "metadata": {},
   "outputs": [],
   "source": [
    "kubectl -n svtprometheus delete deployment/iloredfish"
   ]
  },
  {
   "cell_type": "code",
   "execution_count": null,
   "metadata": {},
   "outputs": [],
   "source": [
    "kubect -n svtprometheus delete svc/iloredfish"
   ]
  }
 ],
 "metadata": {
  "kernelspec": {
   "display_name": "Bash",
   "language": "bash",
   "name": "bash"
  },
  "language_info": {
   "codemirror_mode": "shell",
   "file_extension": ".sh",
   "mimetype": "text/x-sh",
   "name": "bash"
  }
 },
 "nbformat": 4,
 "nbformat_minor": 4
}

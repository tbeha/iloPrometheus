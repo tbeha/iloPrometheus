{
 "cells": [
  {
   "cell_type": "code",
   "execution_count": 88,
   "id": "0155d7eb-f281-43bc-9234-1571790ee362",
   "metadata": {},
   "outputs": [
    {
     "name": "stdout",
     "output_type": "stream",
     "text": [
      "namespace/promtest unchanged\n"
     ]
    }
   ],
   "source": [
    "# Example content of the namespace.yml file - either run the command above or this one to create the namespace\n",
    "cat << 'EOF' | kubectl apply -f -\n",
    "apiVersion: v1\n",
    "kind: Namespace\n",
    "metadata:\n",
    "  name: promtest\n",
    "EOF"
   ]
  },
  {
   "cell_type": "code",
   "execution_count": 93,
   "id": "33d182f6-861e-42ff-b595-3053fa51fd77",
   "metadata": {},
   "outputs": [
    {
     "name": "stdout",
     "output_type": "stream",
     "text": [
      "service/ilox created\n"
     ]
    }
   ],
   "source": [
    "cat << 'EOF' | kubectl apply -f -\n",
    "apiVersion: v1\n",
    "kind: Service\n",
    "metadata:\n",
    "  name: ilox\n",
    "  namespace: promtest\n",
    "#  labels: \n",
    "#     hpecp.hpe.com/hpecp-internal-gateway: \"true\"    \n",
    "spec:\n",
    "  selector:\n",
    "    app: ilox\n",
    "  ports:\n",
    "    - port: 9091               # The Port of that the Prometheus connector uses\n",
    "      targetPort: 9091\n",
    "      protocol: TCP\n",
    "  type: NodePort               # expose the Prometheus connector if you want/need to debug it. \n",
    "EOF"
   ]
  },
  {
   "cell_type": "code",
   "execution_count": 168,
   "id": "0ede0a99-f6ba-4c3c-b642-21a9e3aa9977",
   "metadata": {},
   "outputs": [
    {
     "name": "stdout",
     "output_type": "stream",
     "text": [
      "configmap/ilopromtest-xml configured\n"
     ]
    }
   ],
   "source": [
    "kubectl apply -f ipromtst.yml"
   ]
  },
  {
   "cell_type": "code",
   "execution_count": 169,
   "id": "5177f285-5e14-423c-8c90-6427d8d51ed6",
   "metadata": {},
   "outputs": [
    {
     "name": "stdout",
     "output_type": "stream",
     "text": [
      "Name:         ilopromtest-xml\n",
      "Namespace:    promtest\n",
      "Labels:       <none>\n",
      "Annotations:  <none>\n",
      "\n",
      "Data\n",
      "====\n",
      "iloprometheus.key:\n",
      "----\n",
      "LVkjkV5j40Fl6U0O7ratU0RDf5W1NmAE0oqoQ2DaE74=\n",
      "iloprometheus.xml:\n",
      "----\n",
      "<data> \n",
      "  <username>Prometheus</username>\n",
      "  <user>gAAAAABig6ZJgST83R7v5AFjsOKiYt0bwqBdledJpF3-TnUBR5871eNttG8P-O_eYA55-5NyyZgmmeWRnWy3hPAbUFk18_sWNw==</user>\n",
      "  <password>gAAAAABig6ZJAZL8wS41b0snZ76VWo17JysUq0-k5VjnrNUCU1y5AAPw5p1MphkFcB_u6z0TgcPbmR9yJcX39Cx0Egwv5Lou8A==</password>\n",
      "  <monitoringintervall>30</monitoringintervall>\n",
      "  <logfile>iloprom2.log</logfile>\n",
      "  <port>9091</port>      \n",
      "  <server> <ILO_ip>10.1.24.64</ILO_ip>,<Rack>C5</Rack>,<Loc>20</Loc> </server>\n",
      "  <server> <ILO_ip>10.1.71.235</ILO_ip>,<Rack>F5</Rack>,<Loc>1</Loc> </server>      \n",
      "  <server> <ILO_ip>10.1.83.51</ILO_ip>,<Rack>F5</Rack>,<Loc>9</Loc> </server>\n",
      "</data>\n",
      "\n",
      "BinaryData\n",
      "====\n",
      "\n",
      "Events:  <none>\n"
     ]
    }
   ],
   "source": [
    "kubectl -n promtest describe configmap/ilopromtest-xml"
   ]
  },
  {
   "cell_type": "code",
   "execution_count": 171,
   "id": "cc570112-58bb-4ad4-8e71-23f07033ec4e",
   "metadata": {},
   "outputs": [
    {
     "name": "stdout",
     "output_type": "stream",
     "text": [
      "deployment.apps/ilox created\n"
     ]
    }
   ],
   "source": [
    "cat << 'EOF' | kubectl apply -f -\n",
    "apiVersion: apps/v1\n",
    "kind: Deployment\n",
    "metadata:\n",
    "  name: ilox\n",
    "  namespace: promtest\n",
    "  labels:\n",
    "    app: ilox\n",
    "spec:\n",
    "  selector:\n",
    "    matchLabels:\n",
    "      app: ilox\n",
    "  template:\n",
    "    metadata:\n",
    "      labels:\n",
    "        app: ilox\n",
    "    spec:\n",
    "      containers:\n",
    "        - name: ilox\n",
    "          image: tb1378/iloprometheus\n",
    "          command: [\"/usr/bin/python3\"]\n",
    "          args: [\"/opt/prometheus/iloPromConnector.v3.0.py\"]\n",
    "          #command: [\"/bin/sh\"]\n",
    "          #args: [\"-c\", \"while true; do echo hello; sleep 10;done\"]\n",
    "          volumeMounts:\n",
    "            - name: iloprometheusxml\n",
    "              mountPath: /opt/prometheus/data\n",
    "      volumes:\n",
    "        - name: iloprometheusxml\n",
    "          configMap:\n",
    "            name: ilopromtest-xml   # the correct name of the configmap needs to be added here. \n",
    "EOF"
   ]
  },
  {
   "cell_type": "code",
   "execution_count": 172,
   "id": "dc0ee1c9-ca46-427c-926b-3fd49233c608",
   "metadata": {},
   "outputs": [
    {
     "name": "stdout",
     "output_type": "stream",
     "text": [
      "NAME                    READY   STATUS    RESTARTS   AGE   IP             NODE                    NOMINATED NODE   READINESS GATES\n",
      "ilox-6fc848bdd6-874p2   1/1     Running   0          3s    10.244.5.139   suo04k8sw3.demo.local   <none>           <none>\n",
      "NAME   TYPE       CLUSTER-IP       EXTERNAL-IP   PORT(S)          AGE    SELECTOR\n",
      "ilox   NodePort   10.104.227.154   <none>        9091:30336/TCP   3d3h   app=ilox\n",
      "NAME   READY   UP-TO-DATE   AVAILABLE   AGE   CONTAINERS   IMAGES                 SELECTOR\n",
      "ilox   1/1     1            1           4s    ilox         tb1378/iloprometheus   app=ilox\n"
     ]
    }
   ],
   "source": [
    "kubectl -n promtest get pods -o wide\n",
    "kubectl -n promtest get svc -o wide\n",
    "kubectl -n promtest get deployments -o wide"
   ]
  },
  {
   "cell_type": "code",
   "execution_count": 136,
   "id": "b35bc131-468c-4da4-ba53-765c6a17522e",
   "metadata": {},
   "outputs": [],
   "source": [
    "kubectl -n promtest logs pod/ilox-6fc848bdd6-fnbd4"
   ]
  },
  {
   "cell_type": "code",
   "execution_count": 173,
   "id": "77555f87-f939-4913-bdbf-d748115df5b9",
   "metadata": {},
   "outputs": [
    {
     "name": "stdout",
     "output_type": "stream",
     "text": [
      "deployment.apps \"ilox\" deleted\n"
     ]
    }
   ],
   "source": [
    "kubectl -n promtest delete deployment/ilox"
   ]
  },
  {
   "cell_type": "code",
   "execution_count": 40,
   "id": "8bbdea82-8677-464f-97f0-5d5da655f2d4",
   "metadata": {},
   "outputs": [
    {
     "name": "stdout",
     "output_type": "stream",
     "text": [
      "service \"ilo3\" deleted\n"
     ]
    }
   ],
   "source": [
    "kubectl -n promtest delete svc/ilox"
   ]
  }
 ],
 "metadata": {
  "kernelspec": {
   "display_name": "Bash",
   "language": "bash",
   "name": "bash"
  },
  "language_info": {
   "codemirror_mode": "shell",
   "file_extension": ".sh",
   "mimetype": "text/x-sh",
   "name": "bash"
  }
 },
 "nbformat": 4,
 "nbformat_minor": 5
}
